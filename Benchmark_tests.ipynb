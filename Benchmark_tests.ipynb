{
  "cells": [
    {
      "cell_type": "code",
      "execution_count": 1,
      "metadata": {
        "id": "szdgVthILQL9"
      },
      "outputs": [],
      "source": [
        "import numpy as np\n",
        "import torch\n",
        "import torch.nn as nn\n",
        "import torch.optim as optim\n",
        "import random, logging\n",
        "from collections import deque\n",
        "import tensorflow as tf\n",
        "from tensorflow.keras import layers\n",
        "from scipy.optimize import differential_evolution\n",
        "import random\n",
        "from tensorflow import keras\n",
        "import gym\n",
        "from matplotlib import pyplot as plt\n",
        "plt.rcParams['font.family'] = 'serif'\n",
        "plt.rcParams['font.serif'] = ['Times New Roman'] + plt.rcParams['font.serif']"
      ]
    },
    {
      "cell_type": "code",
      "execution_count": 2,
      "metadata": {
        "id": "TYQVrAlqLduG"
      },
      "outputs": [],
      "source": [
        "np.random.seed(42)\n",
        "random.seed(42)\n",
        "tf.random.set_seed(42)"
      ]
    },
    {
      "cell_type": "code",
      "execution_count": 3,
      "metadata": {
        "id": "K282A06ULgKn"
      },
      "outputs": [],
      "source": [
        "# Configure logging\n",
        "logging.basicConfig(level=logging.INFO, format='%(asctime)s - %(levelname)s - %(message)s')\n",
        "\n",
        "CONFIG = {\n",
        "    \"mutation_strategies\": ['best1bin', 'rand1bin', 'rand2bin', 'currenttobest1bin', 'best1exp', 'rand1exp'],\n",
        "    \"crossover_strategies\": ['bin', 'exp'],\n",
        "    \"cma_step_size\": 0.3,\n",
        "    \"egt_max_size\": 50,\n",
        "    \"dqn_learning_rate\": 0.001,\n",
        "    \"max_generations\": 100,\n",
        "    \"num_runs\": 10,\n",
        "    \"batch_size\": 32}"
      ]
    },
    {
      "cell_type": "code",
      "execution_count": 4,
      "metadata": {
        "id": "pfES-iJALkzC"
      },
      "outputs": [],
      "source": [
        "# EGT-based Memory Archive\n",
        "class EGTMemory:\n",
        "    def __init__(self, max_size=50):\n",
        "        self.solutions = []\n",
        "        self.fitness = []\n",
        "        self.max_size = max_size\n",
        "\n",
        "    def add_solution(self, solution, fitness):\n",
        "        if len(self.solutions) < self.max_size:\n",
        "            self.solutions.append(solution)\n",
        "            self.fitness.append(fitness)\n",
        "        else:\n",
        "            worst_idx = np.argmax(self.fitness)\n",
        "            if fitness < self.fitness[worst_idx]:\n",
        "                self.solutions[worst_idx] = solution\n",
        "                self.fitness[worst_idx] = fitness\n",
        "\n",
        "    def extract_patterns(self):\n",
        "        return np.mean(self.solutions, axis=0) if self.solutions else None\n",
        "\n",
        "# DQN Agent for Adaptive Strategy Selection\n",
        "class DQNAgent:\n",
        "    def __init__(self, state_size, action_size):\n",
        "        self.state_size = state_size\n",
        "        self.action_size = action_size\n",
        "        self.memory = deque(maxlen=2000)\n",
        "        self.gamma = 0.95\n",
        "        self.epsilon = 1.0\n",
        "        self.epsilon_min = 0.01\n",
        "        self.epsilon_decay = 0.995\n",
        "        self.learning_rate = 0.001\n",
        "        self.model = self._build_model()\n",
        "\n",
        "    def _build_model(self):\n",
        "        model = tf.keras.Sequential([\n",
        "            tf.keras.layers.Input(shape=(self.state_size,)),\n",
        "            tf.keras.layers.Dense(24, activation='relu'),\n",
        "            tf.keras.layers.Dense(24, activation='relu'),\n",
        "            tf.keras.layers.Dense(self.action_size, activation='linear')])\n",
        "        model.compile(loss='mse', optimizer=tf.keras.optimizers.Adam(learning_rate=self.learning_rate))\n",
        "        return model\n",
        "\n",
        "    def select_action(self, state):\n",
        "        state = np.array(state).reshape(1, -1)\n",
        "        if np.random.rand() <= self.epsilon:\n",
        "            return np.random.choice(self.action_size)\n",
        "        q_values = self.model.predict(state, verbose=0)\n",
        "        return np.argmax(q_values[0])\n",
        "\n",
        "    def train(self, batch_size=32):\n",
        "        if len(self.memory) < batch_size:\n",
        "            return\n",
        "        batch = random.sample(self.memory, batch_size)\n",
        "        for state, action, reward, next_state in batch:\n",
        "            target = reward + self.gamma * np.max(self.model.predict(np.array(next_state).reshape(1, -1), verbose=0))\n",
        "            target_f = self.model.predict(np.array(state).reshape(1, -1), verbose=0)\n",
        "            target_f[0][action] = target\n",
        "            self.model.fit(np.array(state).reshape(1, -1), target_f, epochs=1, verbose=0)\n",
        "        if self.epsilon > self.epsilon_min:\n",
        "            self.epsilon *= self.epsilon_decay\n",
        "\n",
        "class AdaptiveEA:\n",
        "    def __init__(self, objective_function, bounds, generations=50, num_runs=10):\n",
        "        self.bounds = bounds\n",
        "        self.objective_function = objective_function\n",
        "        self.generations = generations\n",
        "        self.num_runs = num_runs\n",
        "        self.agent = DQNAgent(state_size=1, action_size=len(CONFIG[\"mutation_strategies\"]))\n",
        "        self.egt_memory = EGTMemory()\n",
        "\n",
        "    def evolve(self):\n",
        "        all_runs_fitness_history = []\n",
        "        for _ in range(self.num_runs):\n",
        "            best_solution, best_fitness, fitness_history = self._evolve_single_run()\n",
        "            all_runs_fitness_history.append(fitness_history)\n",
        "        return best_solution, best_fitness, np.mean(all_runs_fitness_history), np.max(all_runs_fitness_history), np.std(all_runs_fitness_history), all_runs_fitness_history\n",
        "\n",
        "    def _evolve_single_run(self):\n",
        "        best_solution, best_fitness = None, float('inf')\n",
        "        fitness_history = []\n",
        "        strategies = CONFIG[\"mutation_strategies\"]\n",
        "\n",
        "        for generation in range(self.generations):\n",
        "            strategy_idx = self.agent.select_action([generation])\n",
        "            mutation_strategy = strategies[strategy_idx]\n",
        "\n",
        "            result = differential_evolution(\n",
        "                self.objective_function,\n",
        "                bounds=self.bounds,\n",
        "                strategy=mutation_strategy,\n",
        "                recombination=0.7,\n",
        "                popsize=20,\n",
        "                tol=0.01,\n",
        "                maxiter=1,\n",
        "                disp=False)\n",
        "\n",
        "            if result.fun < best_fitness:\n",
        "                best_fitness = result.fun\n",
        "                best_solution = result.x\n",
        "\n",
        "            self.egt_memory.add_solution(result.x, result.fun)\n",
        "            fitness_history.append(result.fun)\n",
        "\n",
        "            reward = -result.fun\n",
        "            next_state = [generation + 1]\n",
        "            self.agent.memory.append(([generation], strategy_idx, reward, next_state))\n",
        "            self.agent.train()\n",
        "        return best_solution, best_fitness, fitness_history"
      ]
    },
    {
      "cell_type": "code",
      "execution_count": 5,
      "metadata": {
        "id": "i4AZeDf5MU3o"
      },
      "outputs": [],
      "source": [
        "def compute_metrics(fitness_history_obj):\n",
        "    optimum, _, mean_fitness, worst_fitness, std_fitness, all_runs_fitness_history = fitness_history_obj.evolve()\n",
        "    best_fitness_values = [np.min(run_fitness_history) for run_fitness_history in all_runs_fitness_history]\n",
        "    worst_fitness_values = [np.max(run_fitness_history) for run_fitness_history in all_runs_fitness_history]\n",
        "\n",
        "    return optimum, best_fitness_values, worst_fitness_values, mean_fitness, std_fitness"
      ]
    },
    {
      "cell_type": "markdown",
      "source": [
        "## **Rosenbrock**"
      ],
      "metadata": {
        "id": "lhvFwAAKiXqj"
      }
    },
    {
      "cell_type": "code",
      "execution_count": null,
      "metadata": {
        "id": "qdo-XNaEMF-H"
      },
      "outputs": [],
      "source": [
        "import time\n",
        "\n",
        "def rosenbrock(x):\n",
        "    return sum(100 * (x[i+1] - x[i]**2)**2 + (x[i] - 1)**2 for i in range(len(x)-1))\n",
        "\n",
        "def evaluate_function(func, x):\n",
        "    return func(x)\n",
        "\n",
        "test_functions = {\"Rosenbrock\": rosenbrock}\n",
        "bounds = [(-5, 5)] * 10\n",
        "\n",
        "results = []\n",
        "for name, func in test_functions.items():\n",
        "    print(f\"Running ADE-DQN-CMA-ES-EGT on {name}...\")\n",
        "\n",
        "    start_time = time.time()\n",
        "    fitness_history = AdaptiveEA(lambda x: evaluate_function(func, x), bounds, CONFIG[\"max_generations\"], CONFIG[\"num_runs\"])\n",
        "    optimum, best, worst, mean, std = compute_metrics(fitness_history)\n",
        "    end_time = time.time()\n",
        "\n",
        "    execution_time = end_time - start_time\n",
        "    results.append([name, optimum, np.min(best), np.max(worst), np.mean(mean), np.mean(std), execution_time])\n",
        "\n",
        "df_results = pd.DataFrame(results, columns=[\"Function\", \"Optimum\", \"Best\", \"Worst\", \"Mean\", \"Std\", \"Execution Time (s)\"])\n",
        "print(df_results)"
      ]
    },
    {
      "cell_type": "code",
      "execution_count": null,
      "metadata": {
        "colab": {
          "base_uri": "https://localhost:8080/",
          "height": 89
        },
        "id": "FeOQHI_tbnaT",
        "outputId": "680a2a50-e1d0-4cd5-e430-23fe8b64ec39"
      },
      "outputs": [
        {
          "data": {
            "application/vnd.google.colaboratory.intrinsic+json": {
              "summary": "{\n  \"name\": \"df_results\",\n  \"rows\": 1,\n  \"fields\": [\n    {\n      \"column\": \"Function\",\n      \"properties\": {\n        \"dtype\": \"string\",\n        \"num_unique_values\": 1,\n        \"samples\": [\n          \"Rosenbrock\"\n        ],\n        \"semantic_type\": \"\",\n        \"description\": \"\"\n      }\n    },\n    {\n      \"column\": \"Optimum\",\n      \"properties\": {\n        \"dtype\": \"object\",\n        \"semantic_type\": \"\",\n        \"description\": \"\"\n      }\n    },\n    {\n      \"column\": \"Best\",\n      \"properties\": {\n        \"dtype\": \"number\",\n        \"std\": null,\n        \"min\": 1.746331347749948e-11,\n        \"max\": 1.746331347749948e-11,\n        \"num_unique_values\": 1,\n        \"samples\": [\n          1.746331347749948e-11\n        ],\n        \"semantic_type\": \"\",\n        \"description\": \"\"\n      }\n    },\n    {\n      \"column\": \"Worst\",\n      \"properties\": {\n        \"dtype\": \"number\",\n        \"std\": null,\n        \"min\": 3.9865791339441574,\n        \"max\": 3.9865791339441574,\n        \"num_unique_values\": 1,\n        \"samples\": [\n          3.9865791339441574\n        ],\n        \"semantic_type\": \"\",\n        \"description\": \"\"\n      }\n    },\n    {\n      \"column\": \"Mean\",\n      \"properties\": {\n        \"dtype\": \"number\",\n        \"std\": null,\n        \"min\": 0.7694097691426675,\n        \"max\": 0.7694097691426675,\n        \"num_unique_values\": 1,\n        \"samples\": [\n          0.7694097691426675\n        ],\n        \"semantic_type\": \"\",\n        \"description\": \"\"\n      }\n    },\n    {\n      \"column\": \"Std\",\n      \"properties\": {\n        \"dtype\": \"number\",\n        \"std\": null,\n        \"min\": 1.573315455179016,\n        \"max\": 1.573315455179016,\n        \"num_unique_values\": 1,\n        \"samples\": [\n          1.573315455179016\n        ],\n        \"semantic_type\": \"\",\n        \"description\": \"\"\n      }\n    },\n    {\n      \"column\": \"Execution Time (s)\",\n      \"properties\": {\n        \"dtype\": \"number\",\n        \"std\": null,\n        \"min\": 8771.748087644577,\n        \"max\": 8771.748087644577,\n        \"num_unique_values\": 1,\n        \"samples\": [\n          8771.748087644577\n        ],\n        \"semantic_type\": \"\",\n        \"description\": \"\"\n      }\n    }\n  ]\n}",
              "type": "dataframe",
              "variable_name": "df_results"
            },
            "text/html": [
              "\n",
              "  <div id=\"df-52981d0c-ecec-44b1-a754-1ef0dbed76ce\" class=\"colab-df-container\">\n",
              "    <div>\n",
              "<style scoped>\n",
              "    .dataframe tbody tr th:only-of-type {\n",
              "        vertical-align: middle;\n",
              "    }\n",
              "\n",
              "    .dataframe tbody tr th {\n",
              "        vertical-align: top;\n",
              "    }\n",
              "\n",
              "    .dataframe thead th {\n",
              "        text-align: right;\n",
              "    }\n",
              "</style>\n",
              "<table border=\"1\" class=\"dataframe\">\n",
              "  <thead>\n",
              "    <tr style=\"text-align: right;\">\n",
              "      <th></th>\n",
              "      <th>Function</th>\n",
              "      <th>Optimum</th>\n",
              "      <th>Best</th>\n",
              "      <th>Worst</th>\n",
              "      <th>Mean</th>\n",
              "      <th>Std</th>\n",
              "      <th>Execution Time (s)</th>\n",
              "    </tr>\n",
              "  </thead>\n",
              "  <tbody>\n",
              "    <tr>\n",
              "      <th>0</th>\n",
              "      <td>Rosenbrock</td>\n",
              "      <td>[1.0000000126756534, 0.9999999575401498, 0.999...</td>\n",
              "      <td>1.746331e-11</td>\n",
              "      <td>3.986579</td>\n",
              "      <td>0.76941</td>\n",
              "      <td>1.573315</td>\n",
              "      <td>8771.748088</td>\n",
              "    </tr>\n",
              "  </tbody>\n",
              "</table>\n",
              "</div>\n",
              "    <div class=\"colab-df-buttons\">\n",
              "\n",
              "  <div class=\"colab-df-container\">\n",
              "    <button class=\"colab-df-convert\" onclick=\"convertToInteractive('df-52981d0c-ecec-44b1-a754-1ef0dbed76ce')\"\n",
              "            title=\"Convert this dataframe to an interactive table.\"\n",
              "            style=\"display:none;\">\n",
              "\n",
              "  <svg xmlns=\"http://www.w3.org/2000/svg\" height=\"24px\" viewBox=\"0 -960 960 960\">\n",
              "    <path d=\"M120-120v-720h720v720H120Zm60-500h600v-160H180v160Zm220 220h160v-160H400v160Zm0 220h160v-160H400v160ZM180-400h160v-160H180v160Zm440 0h160v-160H620v160ZM180-180h160v-160H180v160Zm440 0h160v-160H620v160Z\"/>\n",
              "  </svg>\n",
              "    </button>\n",
              "\n",
              "  <style>\n",
              "    .colab-df-container {\n",
              "      display:flex;\n",
              "      gap: 12px;\n",
              "    }\n",
              "\n",
              "    .colab-df-convert {\n",
              "      background-color: #E8F0FE;\n",
              "      border: none;\n",
              "      border-radius: 50%;\n",
              "      cursor: pointer;\n",
              "      display: none;\n",
              "      fill: #1967D2;\n",
              "      height: 32px;\n",
              "      padding: 0 0 0 0;\n",
              "      width: 32px;\n",
              "    }\n",
              "\n",
              "    .colab-df-convert:hover {\n",
              "      background-color: #E2EBFA;\n",
              "      box-shadow: 0px 1px 2px rgba(60, 64, 67, 0.3), 0px 1px 3px 1px rgba(60, 64, 67, 0.15);\n",
              "      fill: #174EA6;\n",
              "    }\n",
              "\n",
              "    .colab-df-buttons div {\n",
              "      margin-bottom: 4px;\n",
              "    }\n",
              "\n",
              "    [theme=dark] .colab-df-convert {\n",
              "      background-color: #3B4455;\n",
              "      fill: #D2E3FC;\n",
              "    }\n",
              "\n",
              "    [theme=dark] .colab-df-convert:hover {\n",
              "      background-color: #434B5C;\n",
              "      box-shadow: 0px 1px 3px 1px rgba(0, 0, 0, 0.15);\n",
              "      filter: drop-shadow(0px 1px 2px rgba(0, 0, 0, 0.3));\n",
              "      fill: #FFFFFF;\n",
              "    }\n",
              "  </style>\n",
              "\n",
              "    <script>\n",
              "      const buttonEl =\n",
              "        document.querySelector('#df-52981d0c-ecec-44b1-a754-1ef0dbed76ce button.colab-df-convert');\n",
              "      buttonEl.style.display =\n",
              "        google.colab.kernel.accessAllowed ? 'block' : 'none';\n",
              "\n",
              "      async function convertToInteractive(key) {\n",
              "        const element = document.querySelector('#df-52981d0c-ecec-44b1-a754-1ef0dbed76ce');\n",
              "        const dataTable =\n",
              "          await google.colab.kernel.invokeFunction('convertToInteractive',\n",
              "                                                    [key], {});\n",
              "        if (!dataTable) return;\n",
              "\n",
              "        const docLinkHtml = 'Like what you see? Visit the ' +\n",
              "          '<a target=\"_blank\" href=https://colab.research.google.com/notebooks/data_table.ipynb>data table notebook</a>'\n",
              "          + ' to learn more about interactive tables.';\n",
              "        element.innerHTML = '';\n",
              "        dataTable['output_type'] = 'display_data';\n",
              "        await google.colab.output.renderOutput(dataTable, element);\n",
              "        const docLink = document.createElement('div');\n",
              "        docLink.innerHTML = docLinkHtml;\n",
              "        element.appendChild(docLink);\n",
              "      }\n",
              "    </script>\n",
              "  </div>\n",
              "\n",
              "\n",
              "  <div id=\"id_133caaee-e8d5-49fc-89a4-e76fdec91826\">\n",
              "    <style>\n",
              "      .colab-df-generate {\n",
              "        background-color: #E8F0FE;\n",
              "        border: none;\n",
              "        border-radius: 50%;\n",
              "        cursor: pointer;\n",
              "        display: none;\n",
              "        fill: #1967D2;\n",
              "        height: 32px;\n",
              "        padding: 0 0 0 0;\n",
              "        width: 32px;\n",
              "      }\n",
              "\n",
              "      .colab-df-generate:hover {\n",
              "        background-color: #E2EBFA;\n",
              "        box-shadow: 0px 1px 2px rgba(60, 64, 67, 0.3), 0px 1px 3px 1px rgba(60, 64, 67, 0.15);\n",
              "        fill: #174EA6;\n",
              "      }\n",
              "\n",
              "      [theme=dark] .colab-df-generate {\n",
              "        background-color: #3B4455;\n",
              "        fill: #D2E3FC;\n",
              "      }\n",
              "\n",
              "      [theme=dark] .colab-df-generate:hover {\n",
              "        background-color: #434B5C;\n",
              "        box-shadow: 0px 1px 3px 1px rgba(0, 0, 0, 0.15);\n",
              "        filter: drop-shadow(0px 1px 2px rgba(0, 0, 0, 0.3));\n",
              "        fill: #FFFFFF;\n",
              "      }\n",
              "    </style>\n",
              "    <button class=\"colab-df-generate\" onclick=\"generateWithVariable('df_results')\"\n",
              "            title=\"Generate code using this dataframe.\"\n",
              "            style=\"display:none;\">\n",
              "\n",
              "  <svg xmlns=\"http://www.w3.org/2000/svg\" height=\"24px\"viewBox=\"0 0 24 24\"\n",
              "       width=\"24px\">\n",
              "    <path d=\"M7,19H8.4L18.45,9,17,7.55,7,17.6ZM5,21V16.75L18.45,3.32a2,2,0,0,1,2.83,0l1.4,1.43a1.91,1.91,0,0,1,.58,1.4,1.91,1.91,0,0,1-.58,1.4L9.25,21ZM18.45,9,17,7.55Zm-12,3A5.31,5.31,0,0,0,4.9,8.1,5.31,5.31,0,0,0,1,6.5,5.31,5.31,0,0,0,4.9,4.9,5.31,5.31,0,0,0,6.5,1,5.31,5.31,0,0,0,8.1,4.9,5.31,5.31,0,0,0,12,6.5,5.46,5.46,0,0,0,6.5,12Z\"/>\n",
              "  </svg>\n",
              "    </button>\n",
              "    <script>\n",
              "      (() => {\n",
              "      const buttonEl =\n",
              "        document.querySelector('#id_133caaee-e8d5-49fc-89a4-e76fdec91826 button.colab-df-generate');\n",
              "      buttonEl.style.display =\n",
              "        google.colab.kernel.accessAllowed ? 'block' : 'none';\n",
              "\n",
              "      buttonEl.onclick = () => {\n",
              "        google.colab.notebook.generateWithVariable('df_results');\n",
              "      }\n",
              "      })();\n",
              "    </script>\n",
              "  </div>\n",
              "\n",
              "    </div>\n",
              "  </div>\n"
            ],
            "text/plain": [
              "     Function                                            Optimum  \\\n",
              "0  Rosenbrock  [1.0000000126756534, 0.9999999575401498, 0.999...   \n",
              "\n",
              "           Best     Worst     Mean       Std  Execution Time (s)  \n",
              "0  1.746331e-11  3.986579  0.76941  1.573315         8771.748088  "
            ]
          },
          "execution_count": 8,
          "metadata": {},
          "output_type": "execute_result"
        }
      ],
      "source": [
        "import pandas as pd\n",
        "df_results = pd.DataFrame(results, columns=[\"Function\", \"Optimum\", \"Best\", \"Worst\", \"Mean\", \"Std\", \"Execution Time (s)\"])\n",
        "df_results"
      ]
    },
    {
      "cell_type": "markdown",
      "source": [
        "## **Rastrigin**"
      ],
      "metadata": {
        "id": "Rst91jMLifFC"
      }
    },
    {
      "cell_type": "code",
      "execution_count": null,
      "metadata": {
        "colab": {
          "background_save": true,
          "base_uri": "https://localhost:8080/"
        },
        "id": "UBQxjHBVXJr-",
        "outputId": "b848d6eb-fe20-46f6-e57b-ffd85da56a32"
      },
      "outputs": [
        {
          "name": "stdout",
          "output_type": "stream",
          "text": [
            "Running ADE-DQN-CMA-ES-EGT on Rastrigin...\n"
          ]
        },
        {
          "data": {
            "application/vnd.google.colaboratory.intrinsic+json": {
              "summary": "{\n  \"name\": \"df_results\",\n  \"rows\": 1,\n  \"fields\": [\n    {\n      \"column\": \"Function\",\n      \"properties\": {\n        \"dtype\": \"string\",\n        \"num_unique_values\": 1,\n        \"samples\": [\n          \"Rastrigin\"\n        ],\n        \"semantic_type\": \"\",\n        \"description\": \"\"\n      }\n    },\n    {\n      \"column\": \"Optimum\",\n      \"properties\": {\n        \"dtype\": \"object\",\n        \"semantic_type\": \"\",\n        \"description\": \"\"\n      }\n    },\n    {\n      \"column\": \"Best\",\n      \"properties\": {\n        \"dtype\": \"number\",\n        \"std\": null,\n        \"min\": 7.959667418937386,\n        \"max\": 7.959667418937386,\n        \"num_unique_values\": 1,\n        \"samples\": [\n          7.959667418937386\n        ],\n        \"semantic_type\": \"\",\n        \"description\": \"\"\n      }\n    },\n    {\n      \"column\": \"Worst\",\n      \"properties\": {\n        \"dtype\": \"number\",\n        \"std\": null,\n        \"min\": 84.57111559714049,\n        \"max\": 84.57111559714049,\n        \"num_unique_values\": 1,\n        \"samples\": [\n          84.57111559714049\n        ],\n        \"semantic_type\": \"\",\n        \"description\": \"\"\n      }\n    },\n    {\n      \"column\": \"Mean\",\n      \"properties\": {\n        \"dtype\": \"number\",\n        \"std\": null,\n        \"min\": 38.083900041740094,\n        \"max\": 38.083900041740094,\n        \"num_unique_values\": 1,\n        \"samples\": [\n          38.083900041740094\n        ],\n        \"semantic_type\": \"\",\n        \"description\": \"\"\n      }\n    },\n    {\n      \"column\": \"Std\",\n      \"properties\": {\n        \"dtype\": \"number\",\n        \"std\": null,\n        \"min\": 13.337490723169292,\n        \"max\": 13.337490723169292,\n        \"num_unique_values\": 1,\n        \"samples\": [\n          13.337490723169292\n        ],\n        \"semantic_type\": \"\",\n        \"description\": \"\"\n      }\n    },\n    {\n      \"column\": \"Execution Time (s)\",\n      \"properties\": {\n        \"dtype\": \"number\",\n        \"std\": null,\n        \"min\": 9144.132640123367,\n        \"max\": 9144.132640123367,\n        \"num_unique_values\": 1,\n        \"samples\": [\n          9144.132640123367\n        ],\n        \"semantic_type\": \"\",\n        \"description\": \"\"\n      }\n    }\n  ]\n}",
              "type": "dataframe",
              "variable_name": "df_results"
            },
            "text/html": [
              "\n",
              "  <div id=\"df-74111a2c-f579-4f64-80a3-6d4f2fc5a931\" class=\"colab-df-container\">\n",
              "    <div>\n",
              "<style scoped>\n",
              "    .dataframe tbody tr th:only-of-type {\n",
              "        vertical-align: middle;\n",
              "    }\n",
              "\n",
              "    .dataframe tbody tr th {\n",
              "        vertical-align: top;\n",
              "    }\n",
              "\n",
              "    .dataframe thead th {\n",
              "        text-align: right;\n",
              "    }\n",
              "</style>\n",
              "<table border=\"1\" class=\"dataframe\">\n",
              "  <thead>\n",
              "    <tr style=\"text-align: right;\">\n",
              "      <th></th>\n",
              "      <th>Function</th>\n",
              "      <th>Optimum</th>\n",
              "      <th>Best</th>\n",
              "      <th>Worst</th>\n",
              "      <th>Mean</th>\n",
              "      <th>Std</th>\n",
              "      <th>Execution Time (s)</th>\n",
              "    </tr>\n",
              "  </thead>\n",
              "  <tbody>\n",
              "    <tr>\n",
              "      <th>0</th>\n",
              "      <td>Rastrigin</td>\n",
              "      <td>[0.9949586264558866, -0.9949586381743692, 0.99...</td>\n",
              "      <td>7.959667</td>\n",
              "      <td>84.571116</td>\n",
              "      <td>38.0839</td>\n",
              "      <td>13.337491</td>\n",
              "      <td>9144.13264</td>\n",
              "    </tr>\n",
              "  </tbody>\n",
              "</table>\n",
              "</div>\n",
              "    <div class=\"colab-df-buttons\">\n",
              "\n",
              "  <div class=\"colab-df-container\">\n",
              "    <button class=\"colab-df-convert\" onclick=\"convertToInteractive('df-74111a2c-f579-4f64-80a3-6d4f2fc5a931')\"\n",
              "            title=\"Convert this dataframe to an interactive table.\"\n",
              "            style=\"display:none;\">\n",
              "\n",
              "  <svg xmlns=\"http://www.w3.org/2000/svg\" height=\"24px\" viewBox=\"0 -960 960 960\">\n",
              "    <path d=\"M120-120v-720h720v720H120Zm60-500h600v-160H180v160Zm220 220h160v-160H400v160Zm0 220h160v-160H400v160ZM180-400h160v-160H180v160Zm440 0h160v-160H620v160ZM180-180h160v-160H180v160Zm440 0h160v-160H620v160Z\"/>\n",
              "  </svg>\n",
              "    </button>\n",
              "\n",
              "  <style>\n",
              "    .colab-df-container {\n",
              "      display:flex;\n",
              "      gap: 12px;\n",
              "    }\n",
              "\n",
              "    .colab-df-convert {\n",
              "      background-color: #E8F0FE;\n",
              "      border: none;\n",
              "      border-radius: 50%;\n",
              "      cursor: pointer;\n",
              "      display: none;\n",
              "      fill: #1967D2;\n",
              "      height: 32px;\n",
              "      padding: 0 0 0 0;\n",
              "      width: 32px;\n",
              "    }\n",
              "\n",
              "    .colab-df-convert:hover {\n",
              "      background-color: #E2EBFA;\n",
              "      box-shadow: 0px 1px 2px rgba(60, 64, 67, 0.3), 0px 1px 3px 1px rgba(60, 64, 67, 0.15);\n",
              "      fill: #174EA6;\n",
              "    }\n",
              "\n",
              "    .colab-df-buttons div {\n",
              "      margin-bottom: 4px;\n",
              "    }\n",
              "\n",
              "    [theme=dark] .colab-df-convert {\n",
              "      background-color: #3B4455;\n",
              "      fill: #D2E3FC;\n",
              "    }\n",
              "\n",
              "    [theme=dark] .colab-df-convert:hover {\n",
              "      background-color: #434B5C;\n",
              "      box-shadow: 0px 1px 3px 1px rgba(0, 0, 0, 0.15);\n",
              "      filter: drop-shadow(0px 1px 2px rgba(0, 0, 0, 0.3));\n",
              "      fill: #FFFFFF;\n",
              "    }\n",
              "  </style>\n",
              "\n",
              "    <script>\n",
              "      const buttonEl =\n",
              "        document.querySelector('#df-74111a2c-f579-4f64-80a3-6d4f2fc5a931 button.colab-df-convert');\n",
              "      buttonEl.style.display =\n",
              "        google.colab.kernel.accessAllowed ? 'block' : 'none';\n",
              "\n",
              "      async function convertToInteractive(key) {\n",
              "        const element = document.querySelector('#df-74111a2c-f579-4f64-80a3-6d4f2fc5a931');\n",
              "        const dataTable =\n",
              "          await google.colab.kernel.invokeFunction('convertToInteractive',\n",
              "                                                    [key], {});\n",
              "        if (!dataTable) return;\n",
              "\n",
              "        const docLinkHtml = 'Like what you see? Visit the ' +\n",
              "          '<a target=\"_blank\" href=https://colab.research.google.com/notebooks/data_table.ipynb>data table notebook</a>'\n",
              "          + ' to learn more about interactive tables.';\n",
              "        element.innerHTML = '';\n",
              "        dataTable['output_type'] = 'display_data';\n",
              "        await google.colab.output.renderOutput(dataTable, element);\n",
              "        const docLink = document.createElement('div');\n",
              "        docLink.innerHTML = docLinkHtml;\n",
              "        element.appendChild(docLink);\n",
              "      }\n",
              "    </script>\n",
              "  </div>\n",
              "\n",
              "\n",
              "  <div id=\"id_ac8300d7-4b87-4216-85bf-59a4d8594961\">\n",
              "    <style>\n",
              "      .colab-df-generate {\n",
              "        background-color: #E8F0FE;\n",
              "        border: none;\n",
              "        border-radius: 50%;\n",
              "        cursor: pointer;\n",
              "        display: none;\n",
              "        fill: #1967D2;\n",
              "        height: 32px;\n",
              "        padding: 0 0 0 0;\n",
              "        width: 32px;\n",
              "      }\n",
              "\n",
              "      .colab-df-generate:hover {\n",
              "        background-color: #E2EBFA;\n",
              "        box-shadow: 0px 1px 2px rgba(60, 64, 67, 0.3), 0px 1px 3px 1px rgba(60, 64, 67, 0.15);\n",
              "        fill: #174EA6;\n",
              "      }\n",
              "\n",
              "      [theme=dark] .colab-df-generate {\n",
              "        background-color: #3B4455;\n",
              "        fill: #D2E3FC;\n",
              "      }\n",
              "\n",
              "      [theme=dark] .colab-df-generate:hover {\n",
              "        background-color: #434B5C;\n",
              "        box-shadow: 0px 1px 3px 1px rgba(0, 0, 0, 0.15);\n",
              "        filter: drop-shadow(0px 1px 2px rgba(0, 0, 0, 0.3));\n",
              "        fill: #FFFFFF;\n",
              "      }\n",
              "    </style>\n",
              "    <button class=\"colab-df-generate\" onclick=\"generateWithVariable('df_results')\"\n",
              "            title=\"Generate code using this dataframe.\"\n",
              "            style=\"display:none;\">\n",
              "\n",
              "  <svg xmlns=\"http://www.w3.org/2000/svg\" height=\"24px\"viewBox=\"0 0 24 24\"\n",
              "       width=\"24px\">\n",
              "    <path d=\"M7,19H8.4L18.45,9,17,7.55,7,17.6ZM5,21V16.75L18.45,3.32a2,2,0,0,1,2.83,0l1.4,1.43a1.91,1.91,0,0,1,.58,1.4,1.91,1.91,0,0,1-.58,1.4L9.25,21ZM18.45,9,17,7.55Zm-12,3A5.31,5.31,0,0,0,4.9,8.1,5.31,5.31,0,0,0,1,6.5,5.31,5.31,0,0,0,4.9,4.9,5.31,5.31,0,0,0,6.5,1,5.31,5.31,0,0,0,8.1,4.9,5.31,5.31,0,0,0,12,6.5,5.46,5.46,0,0,0,6.5,12Z\"/>\n",
              "  </svg>\n",
              "    </button>\n",
              "    <script>\n",
              "      (() => {\n",
              "      const buttonEl =\n",
              "        document.querySelector('#id_ac8300d7-4b87-4216-85bf-59a4d8594961 button.colab-df-generate');\n",
              "      buttonEl.style.display =\n",
              "        google.colab.kernel.accessAllowed ? 'block' : 'none';\n",
              "\n",
              "      buttonEl.onclick = () => {\n",
              "        google.colab.notebook.generateWithVariable('df_results');\n",
              "      }\n",
              "      })();\n",
              "    </script>\n",
              "  </div>\n",
              "\n",
              "    </div>\n",
              "  </div>\n"
            ],
            "text/plain": [
              "    Function                                            Optimum      Best  \\\n",
              "0  Rastrigin  [0.9949586264558866, -0.9949586381743692, 0.99...  7.959667   \n",
              "\n",
              "       Worst     Mean        Std  Execution Time (s)  \n",
              "0  84.571116  38.0839  13.337491          9144.13264  "
            ]
          },
          "execution_count": 9,
          "metadata": {},
          "output_type": "execute_result"
        }
      ],
      "source": [
        "def rastrigin(x):\n",
        "    return 10 * len(x) + sum(x_i**2 - 10 * np.cos(2 * np.pi * x_i) for x_i in x)\n",
        "\n",
        "test_functions = {\"Rastrigin\": rastrigin}\n",
        "bounds = [(-5.12, 5.12)] * 10\n",
        "\n",
        "results = []\n",
        "for name, func in test_functions.items():\n",
        "    print(f\"Running ADE-DQN-CMA-ES-EGT on {name}...\")\n",
        "\n",
        "    start_time = time.time()\n",
        "    fitness_history =  AdaptiveEA(lambda x: evaluate_function(func, x), bounds, CONFIG[\"max_generations\"], CONFIG[\"num_runs\"])\n",
        "    optimum, best, worst, mean, std = compute_metrics(fitness_history)\n",
        "    end_time = time.time()\n",
        "\n",
        "    execution_time = end_time - start_time\n",
        "    results.append([name, optimum, np.min(best), np.max(worst), np.mean(mean), np.mean(std), execution_time])\n",
        "df_results = pd.DataFrame(results, columns=[\"Function\", \"Optimum\", \"Best\", \"Worst\", \"Mean\", \"Std\", \"Execution Time (s)\"])\n",
        "df_results"
      ]
    },
    {
      "cell_type": "markdown",
      "source": [
        "## **Ackley**"
      ],
      "metadata": {
        "id": "Z9vPM-WPikQq"
      }
    },
    {
      "cell_type": "code",
      "execution_count": null,
      "metadata": {
        "id": "67OHcr4DXOh9",
        "colab": {
          "base_uri": "https://localhost:8080/"
        },
        "outputId": "91f89393-d450-42b0-bf36-acb10b746354"
      },
      "outputs": [
        {
          "output_type": "stream",
          "name": "stdout",
          "text": [
            "Running ADE-DQN-CMA-ES-EGT on Ackley...\n"
          ]
        }
      ],
      "source": [
        "def evaluate_function(func, x):\n",
        "    return func(x)\n",
        "\n",
        "def ackley(x):\n",
        "    arg1 = -0.2 * np.sqrt(0.5 * (x[0] ** 2 + x[1] ** 2))\n",
        "    arg2 = 0.5 * (np.cos(2. * np.pi * x[0]) + np.cos(2. * np.pi * x[1]))\n",
        "    return -20. * np.exp(arg1) - np.exp(arg2) + 20. + np.e\n",
        "\n",
        "test_functions = {\"Ackley\": ackley}\n",
        "bounds = [(-32.768, 32.768)] * 10\n",
        "\n",
        "results = []\n",
        "for name, func in test_functions.items():\n",
        "    print(f\"Running ADE-DQN-CMA-ES-EGT on {name}...\")\n",
        "\n",
        "    start_time = time.time()\n",
        "    fitness_history =  AdaptiveEA(lambda x: evaluate_function(func, x), bounds, CONFIG[\"max_generations\"], CONFIG[\"num_runs\"])\n",
        "    optimum, best, worst, mean, std = compute_metrics(fitness_history)\n",
        "    end_time = time.time()\n",
        "\n",
        "    execution_time = end_time - start_time\n",
        "    results.append([name, optimum, np.min(best), np.max(worst), np.mean(mean), np.mean(std), execution_time])\n",
        "\n",
        "df_results = pd.DataFrame(results, columns=[\"Function\", \"Optimum\", \"Best\", \"Worst\", \"Mean\", \"Std\", \"Execution Time (s)\"])\n",
        "print(df_results)"
      ]
    },
    {
      "cell_type": "markdown",
      "source": [
        "## **EggHolder**"
      ],
      "metadata": {
        "id": "QNth0oD-indS"
      }
    },
    {
      "cell_type": "code",
      "execution_count": null,
      "metadata": {
        "id": "JKZgc63VXU42"
      },
      "outputs": [],
      "source": [
        "def eggholder(x):\n",
        "    return (-(x[1] + 47.0)\n",
        "            * np.sin(np.sqrt(abs(x[0]/2.0 + (x[1] + 47.0))))\n",
        "            - x[0] * np.sin(np.sqrt(abs(x[0] - (x[1] + 47.0)))))\n",
        "\n",
        "test_functions = {\"EggHolder\": eggholder}\n",
        "bounds = [(-512, 512)] * 10\n",
        "\n",
        "results = []\n",
        "for name, func in test_functions.items():\n",
        "    print(f\"Running ADE-DQN-CMA-ES-EGT on {name}...\")\n",
        "\n",
        "    start_time = time.time()\n",
        "    fitness_history =  AdaptiveEA(lambda x: evaluate_function(func, x), bounds, CONFIG[\"max_generations\"], CONFIG[\"num_runs\"])\n",
        "    optimum, best, worst, mean, std = compute_metrics(fitness_history)\n",
        "    end_time = time.time()\n",
        "\n",
        "    execution_time = end_time - start_time\n",
        "    results.append([name, optimum, np.min(best), np.max(worst), np.mean(mean), np.mean(std), execution_time])\n",
        "\n",
        "df_results = pd.DataFrame(results, columns=[\"Function\", \"Optimum\", \"Best\", \"Worst\", \"Mean\", \"Std\", \"Execution Time (s)\"])\n",
        "print(df_results)"
      ]
    },
    {
      "cell_type": "markdown",
      "source": [
        "## **Grienwank**"
      ],
      "metadata": {
        "id": "8G6nI8otirHI"
      }
    },
    {
      "cell_type": "code",
      "execution_count": null,
      "metadata": {
        "id": "okh9OBN1XXn1"
      },
      "outputs": [],
      "source": [
        "def griewank(x):\n",
        "    return 1 + np.sum(x**2) / 4000 - np.prod(np.cos(x / np.sqrt(np.arange(1, len(x) + 1))))\n",
        "\n",
        "test_functions = {\"Griewank\": griewank}\n",
        "bounds = [(-600, 600)] * 10\n",
        "\n",
        "results = []\n",
        "for name, func in test_functions.items():\n",
        "    print(f\"Running ADE-DQN-CMA-ES-EGT on {name}...\")\n",
        "\n",
        "    start_time = time.time()\n",
        "    fitness_history =  AdaptiveEA(func, bounds, CONFIG[\"max_generations\"], CONFIG[\"num_runs\"])\n",
        "    optimum, best, worst, mean, std = compute_metrics(fitness_history)\n",
        "    end_time = time.time()\n",
        "\n",
        "    execution_time = end_time - start_time\n",
        "    results.append([name, optimum, np.min(best), np.max(worst), np.mean(mean), np.mean(std), execution_time])\n",
        "\n",
        "df_results = pd.DataFrame(results, columns=[\"Function\", \"Optimum\", \"Best\", \"Worst\", \"Mean\", \"Std\", \"Execution Time (s)\"])\n",
        "print(df_results)"
      ]
    },
    {
      "cell_type": "markdown",
      "source": [
        "## **Schwefei**"
      ],
      "metadata": {
        "id": "kj6z38rYivvb"
      }
    },
    {
      "cell_type": "code",
      "execution_count": null,
      "metadata": {
        "id": "5dnrVXhRXbTy"
      },
      "outputs": [],
      "source": [
        "def schwefel(x):\n",
        "    \"\"\"Schwefel function.\"\"\"\n",
        "    return 418.9829 * len(x) - sum(x_i * np.sin(np.sqrt(np.abs(x_i))) for x_i in x)\n",
        "\n",
        "bounds = [(-500, 500)] * 10\n",
        "\n",
        "results = []\n",
        "for name, func in test_functions.items():\n",
        "    print(f\"Running ADE-DQN-CMA-ES-EGT on {name}...\")\n",
        "\n",
        "    start_time = time.time()\n",
        "    fitness_history = AdaptiveEA(lambda x: evaluate_function(func, x), bounds, CONFIG[\"max_generations\"], CONFIG[\"num_runs\"])\n",
        "    optimum, best, worst, mean, std = compute_metrics(fitness_history)\n",
        "    end_time = time.time()\n",
        "\n",
        "    execution_time = end_time - start_time\n",
        "    results.append([name, optimum, np.min(best), np.max(worst), np.mean(mean), np.mean(std), execution_time])\n",
        "\n",
        "df_results = pd.DataFrame(results, columns=[\"Function\", \"Optimum\", \"Best\", \"Worst\", \"Mean\", \"Std\", \"Execution Time (s)\"])\n",
        "print(df_results)"
      ]
    },
    {
      "cell_type": "markdown",
      "source": [
        "## **Schwefei_2_22**"
      ],
      "metadata": {
        "id": "g0apK8pIi0fo"
      }
    },
    {
      "cell_type": "code",
      "execution_count": null,
      "metadata": {
        "id": "lixEHpsCXeTb"
      },
      "outputs": [],
      "source": [
        "def schwefel_2_22(x):\n",
        "    return np.sum(np.abs(x)) + np.prod(np.abs(x))\n",
        "\n",
        "test_functions = {\n",
        "    \"Schwefel_2_22\": schwefel_2_22}\n",
        "\n",
        "bounds = [(-10, 10)] * 10\n",
        "\n",
        "results = []\n",
        "for name, func in test_functions.items():\n",
        "    print(f\"Running ADE-DQN-CMA-ES-EGT on {name}...\")\n",
        "\n",
        "    start_time = time.time()\n",
        "    fitness_history =  AdaptiveEA(lambda x: evaluate_function(func, x), bounds, CONFIG[\"max_generations\"], CONFIG[\"num_runs\"])\n",
        "    optimum, best, worst, mean, std = compute_metrics(fitness_history)\n",
        "    end_time = time.time()\n",
        "\n",
        "    execution_time = end_time - start_time\n",
        "    results.append([name, optimum, np.min(best), np.max(worst), np.mean(mean), np.mean(std), execution_time])\n",
        "\n",
        "df_results = pd.DataFrame(results, columns=[\"Function\", \"Optimum\", \"Best\", \"Worst\", \"Mean\", \"Std\", \"Execution Time (s)\"])\n",
        "print(df_results)"
      ]
    },
    {
      "cell_type": "markdown",
      "source": [
        "## **Levy**"
      ],
      "metadata": {
        "id": "8XV4Yve5i5-q"
      }
    },
    {
      "cell_type": "code",
      "execution_count": null,
      "metadata": {
        "id": "S9_Ud4V-Xhc8"
      },
      "outputs": [],
      "source": [
        "def levy(x):\n",
        "    w = 1 + (x - 1) / 4\n",
        "    term1 = np.sin(np.pi * w[0])**2\n",
        "    term2 = np.sum((w[:-1] - 1)**2 * (1 + 10 * np.sin(np.pi * w[:-1] + 1)**2))\n",
        "    term3 = (w[-1] - 1)**2 * (1 + np.sin(2 * np.pi * w[-1])**2)\n",
        "    return term1 + term2 + term3\n",
        "\n",
        "test_functions = {\"Levy\": levy}\n",
        "bounds = [(-10, 10)] * 10\n",
        "\n",
        "results = []\n",
        "for name, func in test_functions.items():\n",
        "    print(f\"Running ADE-DQN-CMA-ES-EGT on {name}...\")\n",
        "\n",
        "    start_time = time.time()\n",
        "    fitness_history =  AdaptiveEA(lambda x: evaluate_function(func, x), bounds, CONFIG[\"max_generations\"], CONFIG[\"num_runs\"])\n",
        "    optimum, best, worst, mean, std = compute_metrics(fitness_history)\n",
        "    end_time = time.time()\n",
        "\n",
        "    execution_time = end_time - start_time\n",
        "    results.append([name, optimum, np.min(best), np.max(worst), np.mean(mean), np.mean(std), execution_time])\n",
        "\n",
        "df_results = pd.DataFrame(results, columns=[\"Function\", \"Optimum\", \"Best\", \"Worst\", \"Mean\", \"Std\", \"Execution Time (s)\"])\n",
        "print(df_results)"
      ]
    },
    {
      "cell_type": "markdown",
      "source": [
        "## **Michalewicz**"
      ],
      "metadata": {
        "id": "55LuzNOvi8i1"
      }
    },
    {
      "cell_type": "code",
      "execution_count": null,
      "metadata": {
        "id": "fbjWiur4Xj-d"
      },
      "outputs": [],
      "source": [
        "def michalewicz(x, m=10):\n",
        "    return -sum(np.sin(x[i]) * (np.sin((i + 1) * x[i]**2 / np.pi))**(2 * m) for i in range(len(x)))\n",
        "\n",
        "test_functions = {\"Michalewicz\": michalewicz}\n",
        "bounds = [(-0, 3.14)] * 10\n",
        "\n",
        "results = []\n",
        "for name, func in test_functions.items():\n",
        "    print(f\"Running ADE-DQN-CMA-ES-EGT on {name}...\")\n",
        "\n",
        "    start_time = time.time()\n",
        "    fitness_history =  AdaptiveEA(lambda x: evaluate_function(func, x), bounds, CONFIG[\"max_generations\"], CONFIG[\"num_runs\"])\n",
        "    optimum, best, worst, mean, std = compute_metrics(fitness_history)\n",
        "    end_time = time.time()\n",
        "\n",
        "    execution_time = end_time - start_time\n",
        "    results.append([name, optimum, np.min(best), np.max(worst), np.mean(mean), np.mean(std), execution_time])\n",
        "\n",
        "df_results = pd.DataFrame(results, columns=[\"Function\", \"Optimum\", \"Best\", \"Worst\", \"Mean\", \"Std\", \"Execution Time (s)\"])\n",
        "print(df_results)"
      ]
    },
    {
      "cell_type": "markdown",
      "source": [
        "## **Zakharov**"
      ],
      "metadata": {
        "id": "Ose8D2TljCJN"
      }
    },
    {
      "cell_type": "code",
      "execution_count": null,
      "metadata": {
        "id": "MRU0v09MXmsj"
      },
      "outputs": [],
      "source": [
        "def zakharov(x):\n",
        "    term1 = np.sum(x**2)\n",
        "    term2 = np.sum(0.5 * (np.arange(1, len(x) + 1)) * x)**2\n",
        "    term3 = np.sum(0.5 * (np.arange(1, len(x) + 1)) * x)**4\n",
        "    return term1 + term2 + term3\n",
        "\n",
        "test_functions = {\"Zakharov\": zakharov}\n",
        "bounds = [(-5, 10)] * 10\n",
        "\n",
        "results = []\n",
        "for name, func in test_functions.items():\n",
        "    print(f\"Running ADE-DQN-CMA-ES-EGT on {name}...\")\n",
        "\n",
        "    start_time = time.time()\n",
        "    fitness_history =  AdaptiveEA(lambda x: evaluate_function(func, x), bounds, CONFIG[\"max_generations\"], CONFIG[\"num_runs\"])\n",
        "    optimum, best, worst, mean, std = compute_metrics(fitness_history)\n",
        "    end_time = time.time()\n",
        "\n",
        "    execution_time = end_time - start_time\n",
        "    results.append([name, optimum, np.min(best), np.max(worst), np.mean(mean), np.mean(std), execution_time])\n",
        "\n",
        "df_results = pd.DataFrame(results, columns=[\"Function\", \"Optimum\", \"Best\", \"Worst\", \"Mean\", \"Std\", \"Execution Time (s)\"])\n",
        "print(df_results)"
      ]
    },
    {
      "cell_type": "markdown",
      "source": [
        "## **Zdt1**"
      ],
      "metadata": {
        "id": "749rx8iBjG8y"
      }
    },
    {
      "cell_type": "code",
      "execution_count": null,
      "metadata": {
        "id": "lEiRX7-IZJu9"
      },
      "outputs": [],
      "source": [
        "# Multi-objective functions\n",
        "def zdt1(x):\n",
        "    f1 = x[0]\n",
        "    g = 1 + 9 * np.sum(x[1:]) / (len(x) - 1)\n",
        "    f2 = g * (1 - np.sqrt(f1 / g))\n",
        "    return f1, f2\n",
        "\n",
        "test_functions = {\"Zdt1\": zdt1}\n",
        "\n",
        "bounds = [(0, 1)] * 10\n",
        "\n",
        "results = []\n",
        "for name, func in test_functions.items():\n",
        "    print(f\"Running ADE-DQN-CMA-ES-EGT on {name}...\")\n",
        "\n",
        "    start_time = time.time()\n",
        "    fitness_history =  AdaptiveEA(lambda x: evaluate_function(func, x), bounds, CONFIG[\"max_generations\"], CONFIG[\"num_runs\"])\n",
        "    optimum, best, worst, mean, std = compute_metrics(fitness_history)\n",
        "    end_time = time.time()\n",
        "\n",
        "    execution_time = end_time - start_time\n",
        "    results.append([name, optimum, np.min(best), np.max(worst), np.mean(mean), np.mean(std), execution_time])\n",
        "\n",
        "df_results = pd.DataFrame(results, columns=[\"Function\", \"Optimum\", \"Best\", \"Worst\", \"Mean\", \"Std\", \"Execution Time (s)\"])\n",
        "print(df_results)"
      ]
    },
    {
      "cell_type": "markdown",
      "source": [
        "## **Zdt2**"
      ],
      "metadata": {
        "id": "1xFdoAasjKSS"
      }
    },
    {
      "cell_type": "code",
      "execution_count": null,
      "metadata": {
        "id": "2zVzBcrIZMWN"
      },
      "outputs": [],
      "source": [
        "def zdt2(x):\n",
        "    f1, g = zdt1(x)\n",
        "    f2 = g * (1 - (f1 / g)**2)\n",
        "    return f1, f2\n",
        "\n",
        "test_functions = {\n",
        "    \"Zdt2\": zdt2}\n",
        "\n",
        "bounds = [(0, 1)] * 10\n",
        "\n",
        "results = []\n",
        "for name, func in test_functions.items():\n",
        "    print(f\"Running ADE-DQN-CMA-ES-EGT on {name}...\")\n",
        "\n",
        "    start_time = time.time()\n",
        "    fitness_history =  AdaptiveEA(lambda x: evaluate_function(func, x), bounds, CONFIG[\"max_generations\"], CONFIG[\"num_runs\"])\n",
        "    optimum, best, worst, mean, std = compute_metrics(fitness_history)\n",
        "    end_time = time.time()\n",
        "\n",
        "    execution_time = end_time - start_time\n",
        "    results.append([name, optimum, np.min(best), np.max(worst), np.mean(mean), np.mean(std), execution_time])\n",
        "\n",
        "df_results = pd.DataFrame(results, columns=[\"Function\", \"Optimum\", \"Best\", \"Worst\", \"Mean\", \"Std\", \"Execution Time (s)\"])\n",
        "print(df_results)"
      ]
    },
    {
      "cell_type": "markdown",
      "source": [
        "## **Dtlz2**"
      ],
      "metadata": {
        "id": "2MgbRAJqjRxU"
      }
    },
    {
      "cell_type": "code",
      "execution_count": null,
      "metadata": {
        "id": "NIJVllj5ZO2c"
      },
      "outputs": [],
      "source": [
        "def dtlz2(x):\n",
        "    g = np.sum(x[1:])\n",
        "    f1 = (1 + g) * np.cos(x[0] * np.pi / 2)\n",
        "    f2 = (1 + g) * np.sin(x[0] * np.pi / 2)\n",
        "    return f1, f2\n",
        "\n",
        "test_functions = {\n",
        "    \"Dtlz2\": dtlz2}\n",
        "\n",
        "bounds = [(0, 1)] * 10\n",
        "\n",
        "results = []\n",
        "for name, func in test_functions.items():\n",
        "    print(f\"Running ADE-DQN-CMA-ES-EGT on {name}...\")\n",
        "\n",
        "    start_time = time.time()\n",
        "    fitness_history =  AdaptiveEA(lambda x: evaluate_function(func, x), bounds, CONFIG[\"max_generations\"], CONFIG[\"num_runs\"])\n",
        "    optimum, best, worst, mean, std = compute_metrics(fitness_history)\n",
        "    end_time = time.time()\n",
        "\n",
        "    execution_time = end_time - start_time\n",
        "    results.append([name, optimum, np.min(best), np.max(worst), np.mean(mean), np.mean(std), execution_time])\n",
        "\n",
        "df_results = pd.DataFrame(results, columns=[\"Function\", \"Optimum\", \"Best\", \"Worst\", \"Mean\", \"Std\", \"Execution Time (s)\"])\n",
        "print(df_results)"
      ]
    }
  ],
  "metadata": {
    "colab": {
      "provenance": []
    },
    "kernelspec": {
      "display_name": "Python 3",
      "name": "python3"
    },
    "language_info": {
      "name": "python"
    }
  },
  "nbformat": 4,
  "nbformat_minor": 0
}